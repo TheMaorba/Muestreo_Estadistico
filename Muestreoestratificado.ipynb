{
 "cells": [
  {
   "cell_type": "code",
   "execution_count": 71,
   "id": "3ab15d82",
   "metadata": {},
   "outputs": [],
   "source": [
    "import pandas as pd\n",
    "import numpy as np"
   ]
  },
  {
   "cell_type": "code",
   "execution_count": 72,
   "id": "1e8373de",
   "metadata": {},
   "outputs": [
    {
     "data": {
      "text/plain": [
       "(90, 2)"
      ]
     },
     "execution_count": 72,
     "metadata": {},
     "output_type": "execute_result"
    }
   ],
   "source": [
    "#Importar base de datos\n",
    "df = pd.read_csv(\"streaming_usuarios.csv\")\n",
    "df.shape"
   ]
  },
  {
   "cell_type": "code",
   "execution_count": 73,
   "id": "15d76210",
   "metadata": {},
   "outputs": [
    {
     "data": {
      "application/vnd.microsoft.datawrangler.viewer.v0+json": {
       "columns": [
        {
         "name": "index",
         "rawType": "int64",
         "type": "integer"
        },
        {
         "name": "estrato",
         "rawType": "object",
         "type": "string"
        },
        {
         "name": "horas",
         "rawType": "float64",
         "type": "float"
        }
       ],
       "ref": "a779ebe4-5f8f-4d57-9d79-3d74d1b6fb15",
       "rows": [
        [
         "0",
         "18-29",
         "15.29123264804412"
        ],
        [
         "1",
         "18-29",
         "17.90593497159867"
        ],
        [
         "2",
         "18-29",
         "12.893840718367944"
        ],
        [
         "3",
         "18-29",
         "14.017013560206696"
        ],
        [
         "4",
         "18-29",
         "13.823675540603528"
        ]
       ],
       "shape": {
        "columns": 2,
        "rows": 5
       }
      },
      "text/html": [
       "<div>\n",
       "<style scoped>\n",
       "    .dataframe tbody tr th:only-of-type {\n",
       "        vertical-align: middle;\n",
       "    }\n",
       "\n",
       "    .dataframe tbody tr th {\n",
       "        vertical-align: top;\n",
       "    }\n",
       "\n",
       "    .dataframe thead th {\n",
       "        text-align: right;\n",
       "    }\n",
       "</style>\n",
       "<table border=\"1\" class=\"dataframe\">\n",
       "  <thead>\n",
       "    <tr style=\"text-align: right;\">\n",
       "      <th></th>\n",
       "      <th>estrato</th>\n",
       "      <th>horas</th>\n",
       "    </tr>\n",
       "  </thead>\n",
       "  <tbody>\n",
       "    <tr>\n",
       "      <th>0</th>\n",
       "      <td>18-29</td>\n",
       "      <td>15.291233</td>\n",
       "    </tr>\n",
       "    <tr>\n",
       "      <th>1</th>\n",
       "      <td>18-29</td>\n",
       "      <td>17.905935</td>\n",
       "    </tr>\n",
       "    <tr>\n",
       "      <th>2</th>\n",
       "      <td>18-29</td>\n",
       "      <td>12.893841</td>\n",
       "    </tr>\n",
       "    <tr>\n",
       "      <th>3</th>\n",
       "      <td>18-29</td>\n",
       "      <td>14.017014</td>\n",
       "    </tr>\n",
       "    <tr>\n",
       "      <th>4</th>\n",
       "      <td>18-29</td>\n",
       "      <td>13.823676</td>\n",
       "    </tr>\n",
       "  </tbody>\n",
       "</table>\n",
       "</div>"
      ],
      "text/plain": [
       "  estrato      horas\n",
       "0   18-29  15.291233\n",
       "1   18-29  17.905935\n",
       "2   18-29  12.893841\n",
       "3   18-29  14.017014\n",
       "4   18-29  13.823676"
      ]
     },
     "execution_count": 73,
     "metadata": {},
     "output_type": "execute_result"
    }
   ],
   "source": [
    "df.head()"
   ]
  },
  {
   "cell_type": "code",
   "execution_count": 74,
   "id": "fe6c57cc",
   "metadata": {},
   "outputs": [
    {
     "data": {
      "application/vnd.microsoft.datawrangler.viewer.v0+json": {
       "columns": [
        {
         "name": "index",
         "rawType": "object",
         "type": "string"
        },
        {
         "name": "0",
         "rawType": "object",
         "type": "unknown"
        }
       ],
       "ref": "138e1245-e0ed-4d64-8b17-9642c923728a",
       "rows": [
        [
         "estrato",
         "object"
        ],
        [
         "horas",
         "float64"
        ]
       ],
       "shape": {
        "columns": 1,
        "rows": 2
       }
      },
      "text/plain": [
       "estrato     object\n",
       "horas      float64\n",
       "dtype: object"
      ]
     },
     "execution_count": 74,
     "metadata": {},
     "output_type": "execute_result"
    }
   ],
   "source": [
    "# Saber el tipo de datos\n",
    "df.dtypes"
   ]
  },
  {
   "cell_type": "code",
   "execution_count": 75,
   "id": "9d5cf86a",
   "metadata": {},
   "outputs": [
    {
     "name": "stdout",
     "output_type": "stream",
     "text": [
      "estrato\n",
      "18-29    30\n",
      "30-49    30\n",
      "50+      30\n",
      "Name: count, dtype: int64\n"
     ]
    }
   ],
   "source": [
    "# Contar estratos\n",
    "estratos = df['estrato'].value_counts()\n",
    "print(estratos)"
   ]
  },
  {
   "cell_type": "code",
   "execution_count": 77,
   "id": "e08c4b33",
   "metadata": {},
   "outputs": [],
   "source": [
    "estrato1 = df[df['estrato'] == '18-29']['horas']\n",
    "estrato2 = df[df['estrato'] == '30-49']['horas']\n",
    "estrato3 = df[df['estrato'] == '50+']['horas']\n",
    "n1 = estrato1.count()\n",
    "n2 = estrato2.count()\n",
    "n3 = estrato3.count()\n",
    "n = n1 + n2 + n3"
   ]
  },
  {
   "cell_type": "code",
   "execution_count": 78,
   "id": "66949cb9",
   "metadata": {},
   "outputs": [],
   "source": [
    "# Tamaño de cada grupo\n",
    "N1 = 350\n",
    "N2 = 450\n",
    "N3 = 200\n",
    "N = N1 + N2 + N3"
   ]
  },
  {
   "cell_type": "code",
   "execution_count": 79,
   "id": "907bbab9",
   "metadata": {},
   "outputs": [
    {
     "name": "stdout",
     "output_type": "stream",
     "text": [
      "Media estrato 1: 14.94\n",
      "Media estrato 2: 11.62\n",
      "Media estrato 3: 8.56\n"
     ]
    }
   ],
   "source": [
    "# Promedio de horas de cada estrato\n",
    "mean1, mean2, mean3 = estrato1.mean(), estrato2.mean(), estrato3.mean()\n",
    "print(f\"Media estrato 1: {mean1:.2f}\")\n",
    "print(f\"Media estrato 2: {mean2:.2f}\")\n",
    "print(f\"Media estrato 3: {mean3:.2f}\")"
   ]
  },
  {
   "cell_type": "code",
   "execution_count": 80,
   "id": "a9892203",
   "metadata": {},
   "outputs": [
    {
     "name": "stdout",
     "output_type": "stream",
     "text": [
      "Promedio de horas por estrato: 12.17\n"
     ]
    }
   ],
   "source": [
    "# Promedio de horas por estrato / promedio estratificado de horas de uso /media estratificada\n",
    "Y_estr = (N1*mean1 + N2*mean2 + N3*mean3) / N\n",
    "print(f\"Promedio de horas por estrato: {Y_estr:.2f}\")"
   ]
  },
  {
   "cell_type": "code",
   "execution_count": 81,
   "id": "f4994a8d",
   "metadata": {},
   "outputs": [
    {
     "name": "stdout",
     "output_type": "stream",
     "text": [
      "Pesos: W1=0.350, W2=0.450, W3=0.200\n"
     ]
    }
   ],
   "source": [
    "# Peso de cada estrato\n",
    "W1, W2, W3 = N1/N, N2/N, N3/N\n",
    "print(f\"Pesos: W1={W1:.3f}, W2={W2:.3f}, W3={W3:.3f}\")"
   ]
  },
  {
   "cell_type": "code",
   "execution_count": 82,
   "id": "781895ca",
   "metadata": {},
   "outputs": [
    {
     "name": "stdout",
     "output_type": "stream",
     "text": [
      "Estimación puntual de la media estratificada: 12.17\n"
     ]
    }
   ],
   "source": [
    "Y_st = W1*mean1 + W2*mean2 + W3*mean3\n",
    "print(f\"Estimación puntual de la media estratificada: {Y_st:.2f}\")"
   ]
  },
  {
   "cell_type": "code",
   "execution_count": 83,
   "id": "0d50a790",
   "metadata": {},
   "outputs": [
    {
     "name": "stdout",
     "output_type": "stream",
     "text": [
      "Estimación puntual del total de horas de uso: 12169.33\n"
     ]
    }
   ],
   "source": [
    "# Estimacion del total de horas de uso.\n",
    "T_hat = N * Y_st\n",
    "print(f\"Estimación puntual del total de horas de uso: {T_hat:.2f}\")"
   ]
  },
  {
   "cell_type": "code",
   "execution_count": 84,
   "id": "3719ee1c",
   "metadata": {},
   "outputs": [
    {
     "name": "stdout",
     "output_type": "stream",
     "text": [
      "Total estratificado: 12169.33\n"
     ]
    }
   ],
   "source": [
    "# Estimacion  del total de horas de streaming en la poblacion\n",
    "T_estr = N * Y_estr\n",
    "print(f\"Total estratificado: {T_estr:.2f}\")"
   ]
  },
  {
   "cell_type": "code",
   "execution_count": 85,
   "id": "1ca03147",
   "metadata": {},
   "outputs": [
    {
     "name": "stdout",
     "output_type": "stream",
     "text": [
      "Varianza estrato 1: 7.43\n",
      "Varianza estrato 2: 16.78\n",
      "Varianza estrato 3: 3.59\n"
     ]
    }
   ],
   "source": [
    "# Varianzas muestrales\n",
    "var1, var2, var3 = estrato1.var(ddof=1), estrato2.var(ddof=1), estrato3.var(ddof=1)\n",
    "print(f\"Varianza estrato 1: {var1:.2f}\")\n",
    "print(f\"Varianza estrato 2: {var2:.2f}\")\n",
    "print(f\"Varianza estrato 3: {var3:.2f}\")"
   ]
  },
  {
   "cell_type": "code",
   "execution_count": 86,
   "id": "d37a93dd",
   "metadata": {},
   "outputs": [
    {
     "name": "stdout",
     "output_type": "stream",
     "text": [
      "Varianza de la media estratificada: 0.14\n",
      "Desviación estándar: 0.37\n"
     ]
    }
   ],
   "source": [
    "V_Yst = (W1**2 * var1 / n1 * (1-n1/N1) +\n",
    "         W2**2 * var2 / n2 * (1-n2/N2) +\n",
    "         W3**2 * var3 / n3 * (1-n3/N3))\n",
    "SE_Yst = np.sqrt(V_Yst)\n",
    "print(f\"Varianza de la media estratificada: {V_Yst:.2f}\")\n",
    "print(f\"Desviación estándar: {SE_Yst:.2f}\")"
   ]
  },
  {
   "cell_type": "code",
   "execution_count": 87,
   "id": "40ac3d80",
   "metadata": {},
   "outputs": [
    {
     "name": "stdout",
     "output_type": "stream",
     "text": [
      "IC 95% para la media estratificada: (11.44, 12.90)\n"
     ]
    }
   ],
   "source": [
    "# Intervalo de confianza del 95% para la media estratificada\n",
    "# Usamos el valor crítico z=1.96 para el nivel de confianza del 95%.\n",
    "z = 1.96\n",
    "IC_media = (Y_st - z*SE_Yst, Y_st + z*SE_Yst)\n",
    "print(f\"IC 95% para la media estratificada: ({IC_media[0]:.2f}, {IC_media[1]:.2f})\")"
   ]
  },
  {
   "cell_type": "code",
   "execution_count": 88,
   "id": "64e7db74",
   "metadata": {},
   "outputs": [
    {
     "name": "stdout",
     "output_type": "stream",
     "text": [
      "IC 95% para el total de horas de uso: (11442.41, 12896.25)\n"
     ]
    }
   ],
   "source": [
    "# IC al 95% para el total de horas de uso\n",
    "V_T = N**2 * V_Yst\n",
    "SE_T = np.sqrt(V_T)\n",
    "IC_total = (T_hat - z*SE_T, T_hat + z*SE_T)\n",
    "print(f\"IC 95% para el total de horas de uso: ({IC_total[0]:.2f}, {IC_total[1]:.2f})\")"
   ]
  }
 ],
 "metadata": {
  "kernelspec": {
   "display_name": "Python 3",
   "language": "python",
   "name": "python3"
  },
  "language_info": {
   "codemirror_mode": {
    "name": "ipython",
    "version": 3
   },
   "file_extension": ".py",
   "mimetype": "text/x-python",
   "name": "python",
   "nbconvert_exporter": "python",
   "pygments_lexer": "ipython3",
   "version": "3.13.3"
  }
 },
 "nbformat": 4,
 "nbformat_minor": 5
}
