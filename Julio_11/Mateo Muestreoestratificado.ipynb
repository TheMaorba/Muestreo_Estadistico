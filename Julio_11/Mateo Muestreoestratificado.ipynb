{
  "cells": [
    {
      "cell_type": "code",
      "execution_count": 6,
      "id": "3ab15d82",
      "metadata": {
        "id": "3ab15d82"
      },
      "outputs": [],
      "source": [
        "import pandas as pd\n",
        "import numpy as np"
      ]
    },
    {
      "cell_type": "code",
      "execution_count": 7,
      "id": "1e8373de",
      "metadata": {
        "colab": {
          "base_uri": "https://localhost:8080/"
        },
        "id": "1e8373de",
        "outputId": "255810a5-38c3-40bc-ae42-900627008528"
      },
      "outputs": [
        {
          "output_type": "execute_result",
          "data": {
            "text/plain": [
              "(90, 2)"
            ]
          },
          "metadata": {},
          "execution_count": 7
        }
      ],
      "source": [
        "#Importar base de datos\n",
        "df = pd.read_csv(\"streaming_usuarios.csv\")\n",
        "df.shape"
      ]
    },
    {
      "cell_type": "code",
      "execution_count": 8,
      "id": "15d76210",
      "metadata": {
        "colab": {
          "base_uri": "https://localhost:8080/",
          "height": 206
        },
        "id": "15d76210",
        "outputId": "e1525df7-d883-4044-dc81-6d9f34466d8a"
      },
      "outputs": [
        {
          "output_type": "execute_result",
          "data": {
            "text/plain": [
              "  estrato      horas\n",
              "0   18-29  15.291233\n",
              "1   18-29  17.905935\n",
              "2   18-29  12.893841\n",
              "3   18-29  14.017014\n",
              "4   18-29  13.823676"
            ],
            "text/html": [
              "\n",
              "  <div id=\"df-cd278d29-3068-4df4-8060-01f61f66f2d9\" class=\"colab-df-container\">\n",
              "    <div>\n",
              "<style scoped>\n",
              "    .dataframe tbody tr th:only-of-type {\n",
              "        vertical-align: middle;\n",
              "    }\n",
              "\n",
              "    .dataframe tbody tr th {\n",
              "        vertical-align: top;\n",
              "    }\n",
              "\n",
              "    .dataframe thead th {\n",
              "        text-align: right;\n",
              "    }\n",
              "</style>\n",
              "<table border=\"1\" class=\"dataframe\">\n",
              "  <thead>\n",
              "    <tr style=\"text-align: right;\">\n",
              "      <th></th>\n",
              "      <th>estrato</th>\n",
              "      <th>horas</th>\n",
              "    </tr>\n",
              "  </thead>\n",
              "  <tbody>\n",
              "    <tr>\n",
              "      <th>0</th>\n",
              "      <td>18-29</td>\n",
              "      <td>15.291233</td>\n",
              "    </tr>\n",
              "    <tr>\n",
              "      <th>1</th>\n",
              "      <td>18-29</td>\n",
              "      <td>17.905935</td>\n",
              "    </tr>\n",
              "    <tr>\n",
              "      <th>2</th>\n",
              "      <td>18-29</td>\n",
              "      <td>12.893841</td>\n",
              "    </tr>\n",
              "    <tr>\n",
              "      <th>3</th>\n",
              "      <td>18-29</td>\n",
              "      <td>14.017014</td>\n",
              "    </tr>\n",
              "    <tr>\n",
              "      <th>4</th>\n",
              "      <td>18-29</td>\n",
              "      <td>13.823676</td>\n",
              "    </tr>\n",
              "  </tbody>\n",
              "</table>\n",
              "</div>\n",
              "    <div class=\"colab-df-buttons\">\n",
              "\n",
              "  <div class=\"colab-df-container\">\n",
              "    <button class=\"colab-df-convert\" onclick=\"convertToInteractive('df-cd278d29-3068-4df4-8060-01f61f66f2d9')\"\n",
              "            title=\"Convert this dataframe to an interactive table.\"\n",
              "            style=\"display:none;\">\n",
              "\n",
              "  <svg xmlns=\"http://www.w3.org/2000/svg\" height=\"24px\" viewBox=\"0 -960 960 960\">\n",
              "    <path d=\"M120-120v-720h720v720H120Zm60-500h600v-160H180v160Zm220 220h160v-160H400v160Zm0 220h160v-160H400v160ZM180-400h160v-160H180v160Zm440 0h160v-160H620v160ZM180-180h160v-160H180v160Zm440 0h160v-160H620v160Z\"/>\n",
              "  </svg>\n",
              "    </button>\n",
              "\n",
              "  <style>\n",
              "    .colab-df-container {\n",
              "      display:flex;\n",
              "      gap: 12px;\n",
              "    }\n",
              "\n",
              "    .colab-df-convert {\n",
              "      background-color: #E8F0FE;\n",
              "      border: none;\n",
              "      border-radius: 50%;\n",
              "      cursor: pointer;\n",
              "      display: none;\n",
              "      fill: #1967D2;\n",
              "      height: 32px;\n",
              "      padding: 0 0 0 0;\n",
              "      width: 32px;\n",
              "    }\n",
              "\n",
              "    .colab-df-convert:hover {\n",
              "      background-color: #E2EBFA;\n",
              "      box-shadow: 0px 1px 2px rgba(60, 64, 67, 0.3), 0px 1px 3px 1px rgba(60, 64, 67, 0.15);\n",
              "      fill: #174EA6;\n",
              "    }\n",
              "\n",
              "    .colab-df-buttons div {\n",
              "      margin-bottom: 4px;\n",
              "    }\n",
              "\n",
              "    [theme=dark] .colab-df-convert {\n",
              "      background-color: #3B4455;\n",
              "      fill: #D2E3FC;\n",
              "    }\n",
              "\n",
              "    [theme=dark] .colab-df-convert:hover {\n",
              "      background-color: #434B5C;\n",
              "      box-shadow: 0px 1px 3px 1px rgba(0, 0, 0, 0.15);\n",
              "      filter: drop-shadow(0px 1px 2px rgba(0, 0, 0, 0.3));\n",
              "      fill: #FFFFFF;\n",
              "    }\n",
              "  </style>\n",
              "\n",
              "    <script>\n",
              "      const buttonEl =\n",
              "        document.querySelector('#df-cd278d29-3068-4df4-8060-01f61f66f2d9 button.colab-df-convert');\n",
              "      buttonEl.style.display =\n",
              "        google.colab.kernel.accessAllowed ? 'block' : 'none';\n",
              "\n",
              "      async function convertToInteractive(key) {\n",
              "        const element = document.querySelector('#df-cd278d29-3068-4df4-8060-01f61f66f2d9');\n",
              "        const dataTable =\n",
              "          await google.colab.kernel.invokeFunction('convertToInteractive',\n",
              "                                                    [key], {});\n",
              "        if (!dataTable) return;\n",
              "\n",
              "        const docLinkHtml = 'Like what you see? Visit the ' +\n",
              "          '<a target=\"_blank\" href=https://colab.research.google.com/notebooks/data_table.ipynb>data table notebook</a>'\n",
              "          + ' to learn more about interactive tables.';\n",
              "        element.innerHTML = '';\n",
              "        dataTable['output_type'] = 'display_data';\n",
              "        await google.colab.output.renderOutput(dataTable, element);\n",
              "        const docLink = document.createElement('div');\n",
              "        docLink.innerHTML = docLinkHtml;\n",
              "        element.appendChild(docLink);\n",
              "      }\n",
              "    </script>\n",
              "  </div>\n",
              "\n",
              "\n",
              "    <div id=\"df-839914fa-ca22-4e11-b1da-9116545868a7\">\n",
              "      <button class=\"colab-df-quickchart\" onclick=\"quickchart('df-839914fa-ca22-4e11-b1da-9116545868a7')\"\n",
              "                title=\"Suggest charts\"\n",
              "                style=\"display:none;\">\n",
              "\n",
              "<svg xmlns=\"http://www.w3.org/2000/svg\" height=\"24px\"viewBox=\"0 0 24 24\"\n",
              "     width=\"24px\">\n",
              "    <g>\n",
              "        <path d=\"M19 3H5c-1.1 0-2 .9-2 2v14c0 1.1.9 2 2 2h14c1.1 0 2-.9 2-2V5c0-1.1-.9-2-2-2zM9 17H7v-7h2v7zm4 0h-2V7h2v10zm4 0h-2v-4h2v4z\"/>\n",
              "    </g>\n",
              "</svg>\n",
              "      </button>\n",
              "\n",
              "<style>\n",
              "  .colab-df-quickchart {\n",
              "      --bg-color: #E8F0FE;\n",
              "      --fill-color: #1967D2;\n",
              "      --hover-bg-color: #E2EBFA;\n",
              "      --hover-fill-color: #174EA6;\n",
              "      --disabled-fill-color: #AAA;\n",
              "      --disabled-bg-color: #DDD;\n",
              "  }\n",
              "\n",
              "  [theme=dark] .colab-df-quickchart {\n",
              "      --bg-color: #3B4455;\n",
              "      --fill-color: #D2E3FC;\n",
              "      --hover-bg-color: #434B5C;\n",
              "      --hover-fill-color: #FFFFFF;\n",
              "      --disabled-bg-color: #3B4455;\n",
              "      --disabled-fill-color: #666;\n",
              "  }\n",
              "\n",
              "  .colab-df-quickchart {\n",
              "    background-color: var(--bg-color);\n",
              "    border: none;\n",
              "    border-radius: 50%;\n",
              "    cursor: pointer;\n",
              "    display: none;\n",
              "    fill: var(--fill-color);\n",
              "    height: 32px;\n",
              "    padding: 0;\n",
              "    width: 32px;\n",
              "  }\n",
              "\n",
              "  .colab-df-quickchart:hover {\n",
              "    background-color: var(--hover-bg-color);\n",
              "    box-shadow: 0 1px 2px rgba(60, 64, 67, 0.3), 0 1px 3px 1px rgba(60, 64, 67, 0.15);\n",
              "    fill: var(--button-hover-fill-color);\n",
              "  }\n",
              "\n",
              "  .colab-df-quickchart-complete:disabled,\n",
              "  .colab-df-quickchart-complete:disabled:hover {\n",
              "    background-color: var(--disabled-bg-color);\n",
              "    fill: var(--disabled-fill-color);\n",
              "    box-shadow: none;\n",
              "  }\n",
              "\n",
              "  .colab-df-spinner {\n",
              "    border: 2px solid var(--fill-color);\n",
              "    border-color: transparent;\n",
              "    border-bottom-color: var(--fill-color);\n",
              "    animation:\n",
              "      spin 1s steps(1) infinite;\n",
              "  }\n",
              "\n",
              "  @keyframes spin {\n",
              "    0% {\n",
              "      border-color: transparent;\n",
              "      border-bottom-color: var(--fill-color);\n",
              "      border-left-color: var(--fill-color);\n",
              "    }\n",
              "    20% {\n",
              "      border-color: transparent;\n",
              "      border-left-color: var(--fill-color);\n",
              "      border-top-color: var(--fill-color);\n",
              "    }\n",
              "    30% {\n",
              "      border-color: transparent;\n",
              "      border-left-color: var(--fill-color);\n",
              "      border-top-color: var(--fill-color);\n",
              "      border-right-color: var(--fill-color);\n",
              "    }\n",
              "    40% {\n",
              "      border-color: transparent;\n",
              "      border-right-color: var(--fill-color);\n",
              "      border-top-color: var(--fill-color);\n",
              "    }\n",
              "    60% {\n",
              "      border-color: transparent;\n",
              "      border-right-color: var(--fill-color);\n",
              "    }\n",
              "    80% {\n",
              "      border-color: transparent;\n",
              "      border-right-color: var(--fill-color);\n",
              "      border-bottom-color: var(--fill-color);\n",
              "    }\n",
              "    90% {\n",
              "      border-color: transparent;\n",
              "      border-bottom-color: var(--fill-color);\n",
              "    }\n",
              "  }\n",
              "</style>\n",
              "\n",
              "      <script>\n",
              "        async function quickchart(key) {\n",
              "          const quickchartButtonEl =\n",
              "            document.querySelector('#' + key + ' button');\n",
              "          quickchartButtonEl.disabled = true;  // To prevent multiple clicks.\n",
              "          quickchartButtonEl.classList.add('colab-df-spinner');\n",
              "          try {\n",
              "            const charts = await google.colab.kernel.invokeFunction(\n",
              "                'suggestCharts', [key], {});\n",
              "          } catch (error) {\n",
              "            console.error('Error during call to suggestCharts:', error);\n",
              "          }\n",
              "          quickchartButtonEl.classList.remove('colab-df-spinner');\n",
              "          quickchartButtonEl.classList.add('colab-df-quickchart-complete');\n",
              "        }\n",
              "        (() => {\n",
              "          let quickchartButtonEl =\n",
              "            document.querySelector('#df-839914fa-ca22-4e11-b1da-9116545868a7 button');\n",
              "          quickchartButtonEl.style.display =\n",
              "            google.colab.kernel.accessAllowed ? 'block' : 'none';\n",
              "        })();\n",
              "      </script>\n",
              "    </div>\n",
              "\n",
              "    </div>\n",
              "  </div>\n"
            ],
            "application/vnd.google.colaboratory.intrinsic+json": {
              "type": "dataframe",
              "variable_name": "df",
              "summary": "{\n  \"name\": \"df\",\n  \"rows\": 90,\n  \"fields\": [\n    {\n      \"column\": \"estrato\",\n      \"properties\": {\n        \"dtype\": \"category\",\n        \"num_unique_values\": 3,\n        \"samples\": [\n          \"18-29\",\n          \"30-49\",\n          \"50+\"\n        ],\n        \"semantic_type\": \"\",\n        \"description\": \"\"\n      }\n    },\n    {\n      \"column\": \"horas\",\n      \"properties\": {\n        \"dtype\": \"number\",\n        \"std\": 3.990989482350567,\n        \"min\": 5.57006706175509,\n        \"max\": 22.38972633745586,\n        \"num_unique_values\": 90,\n        \"samples\": [\n          5.797346275735469,\n          15.18069062982308,\n          15.12729148710924\n        ],\n        \"semantic_type\": \"\",\n        \"description\": \"\"\n      }\n    }\n  ]\n}"
            }
          },
          "metadata": {},
          "execution_count": 8
        }
      ],
      "source": [
        "df.head()"
      ]
    },
    {
      "cell_type": "code",
      "execution_count": 9,
      "id": "fe6c57cc",
      "metadata": {
        "colab": {
          "base_uri": "https://localhost:8080/",
          "height": 147
        },
        "id": "fe6c57cc",
        "outputId": "baebb6e1-145d-4612-c004-a4dcebc1f118"
      },
      "outputs": [
        {
          "output_type": "execute_result",
          "data": {
            "text/plain": [
              "estrato     object\n",
              "horas      float64\n",
              "dtype: object"
            ],
            "text/html": [
              "<div>\n",
              "<style scoped>\n",
              "    .dataframe tbody tr th:only-of-type {\n",
              "        vertical-align: middle;\n",
              "    }\n",
              "\n",
              "    .dataframe tbody tr th {\n",
              "        vertical-align: top;\n",
              "    }\n",
              "\n",
              "    .dataframe thead th {\n",
              "        text-align: right;\n",
              "    }\n",
              "</style>\n",
              "<table border=\"1\" class=\"dataframe\">\n",
              "  <thead>\n",
              "    <tr style=\"text-align: right;\">\n",
              "      <th></th>\n",
              "      <th>0</th>\n",
              "    </tr>\n",
              "  </thead>\n",
              "  <tbody>\n",
              "    <tr>\n",
              "      <th>estrato</th>\n",
              "      <td>object</td>\n",
              "    </tr>\n",
              "    <tr>\n",
              "      <th>horas</th>\n",
              "      <td>float64</td>\n",
              "    </tr>\n",
              "  </tbody>\n",
              "</table>\n",
              "</div><br><label><b>dtype:</b> object</label>"
            ]
          },
          "metadata": {},
          "execution_count": 9
        }
      ],
      "source": [
        "# Saber el tipo de datos\n",
        "df.dtypes"
      ]
    },
    {
      "cell_type": "code",
      "execution_count": 10,
      "id": "9d5cf86a",
      "metadata": {
        "colab": {
          "base_uri": "https://localhost:8080/"
        },
        "id": "9d5cf86a",
        "outputId": "2b3b64bd-1388-4cc6-f505-0d62f38708e3"
      },
      "outputs": [
        {
          "output_type": "stream",
          "name": "stdout",
          "text": [
            "estrato\n",
            "18-29    30\n",
            "30-49    30\n",
            "50+      30\n",
            "Name: count, dtype: int64\n"
          ]
        }
      ],
      "source": [
        "# Contar estratos\n",
        "estratos = df['estrato'].value_counts()\n",
        "print(estratos)"
      ]
    },
    {
      "cell_type": "code",
      "execution_count": 11,
      "id": "e08c4b33",
      "metadata": {
        "id": "e08c4b33"
      },
      "outputs": [],
      "source": [
        "estrato1 = df[df['estrato'] == '18-29']['horas']\n",
        "estrato2 = df[df['estrato'] == '30-49']['horas']\n",
        "estrato3 = df[df['estrato'] == '50+']['horas']\n",
        "n1 = estrato1.count()\n",
        "n2 = estrato2.count()\n",
        "n3 = estrato3.count()\n",
        "n = n1 + n2 + n3"
      ]
    },
    {
      "cell_type": "code",
      "execution_count": 12,
      "id": "66949cb9",
      "metadata": {
        "id": "66949cb9"
      },
      "outputs": [],
      "source": [
        "# Tamaño de cada grupo\n",
        "N1 = 350\n",
        "N2 = 450\n",
        "N3 = 200\n",
        "N = N1 + N2 + N3"
      ]
    },
    {
      "cell_type": "code",
      "execution_count": 13,
      "id": "907bbab9",
      "metadata": {
        "colab": {
          "base_uri": "https://localhost:8080/"
        },
        "id": "907bbab9",
        "outputId": "efda5651-7d59-4e58-d5fd-bfb8ebcb3fcd"
      },
      "outputs": [
        {
          "output_type": "stream",
          "name": "stdout",
          "text": [
            "Media estrato 1: 14.94\n",
            "Media estrato 2: 11.62\n",
            "Media estrato 3: 8.56\n"
          ]
        }
      ],
      "source": [
        "# Promedio de horas de cada estrato\n",
        "mean1, mean2, mean3 = estrato1.mean(), estrato2.mean(), estrato3.mean()\n",
        "print(f\"Media estrato 1: {mean1:.2f}\")\n",
        "print(f\"Media estrato 2: {mean2:.2f}\")\n",
        "print(f\"Media estrato 3: {mean3:.2f}\")"
      ]
    },
    {
      "cell_type": "code",
      "execution_count": 14,
      "id": "a9892203",
      "metadata": {
        "id": "a9892203",
        "outputId": "086d79df-fa21-48d1-9322-23df3cb070fa",
        "colab": {
          "base_uri": "https://localhost:8080/"
        }
      },
      "outputs": [
        {
          "output_type": "stream",
          "name": "stdout",
          "text": [
            "Promedio de horas por estrato: 12.17\n"
          ]
        }
      ],
      "source": [
        "# Promedio de horas por estrato / promedio estratificado de horas de uso /media estratificada\n",
        "Y_estr = (N1*mean1 + N2*mean2 + N3*mean3) / N\n",
        "print(f\"Promedio de horas por estrato: {Y_estr:.2f}\")"
      ]
    },
    {
      "cell_type": "code",
      "execution_count": 15,
      "id": "f4994a8d",
      "metadata": {
        "id": "f4994a8d",
        "outputId": "89065217-77dc-4642-d820-e3686866b9f0",
        "colab": {
          "base_uri": "https://localhost:8080/"
        }
      },
      "outputs": [
        {
          "output_type": "stream",
          "name": "stdout",
          "text": [
            "Pesos: W1=0.350, W2=0.450, W3=0.200\n"
          ]
        }
      ],
      "source": [
        "# Peso de cada estrato\n",
        "W1, W2, W3 = N1/N, N2/N, N3/N\n",
        "print(f\"Pesos: W1={W1:.3f}, W2={W2:.3f}, W3={W3:.3f}\")"
      ]
    },
    {
      "cell_type": "code",
      "execution_count": 16,
      "id": "781895ca",
      "metadata": {
        "id": "781895ca",
        "outputId": "c3c638bf-335e-4427-c4d3-cf17621ecefb",
        "colab": {
          "base_uri": "https://localhost:8080/"
        }
      },
      "outputs": [
        {
          "output_type": "stream",
          "name": "stdout",
          "text": [
            "Estimación puntual de la media estratificada: 12.17\n"
          ]
        }
      ],
      "source": [
        "Y_st = W1*mean1 + W2*mean2 + W3*mean3\n",
        "print(f\"Estimación puntual de la media estratificada: {Y_st:.2f}\")"
      ]
    },
    {
      "cell_type": "code",
      "execution_count": 17,
      "id": "0d50a790",
      "metadata": {
        "id": "0d50a790",
        "outputId": "820413e3-f470-407b-8a42-5dab433f98bd",
        "colab": {
          "base_uri": "https://localhost:8080/"
        }
      },
      "outputs": [
        {
          "output_type": "stream",
          "name": "stdout",
          "text": [
            "Estimación puntual del total de horas de uso: 12169.33\n"
          ]
        }
      ],
      "source": [
        "# Estimacion del total de horas de uso.\n",
        "T_hat = N * Y_st\n",
        "print(f\"Estimación puntual del total de horas de uso: {T_hat:.2f}\")"
      ]
    },
    {
      "cell_type": "code",
      "execution_count": 18,
      "id": "3719ee1c",
      "metadata": {
        "id": "3719ee1c",
        "outputId": "0889769c-974c-4e3d-ea33-6f565d255aed",
        "colab": {
          "base_uri": "https://localhost:8080/"
        }
      },
      "outputs": [
        {
          "output_type": "stream",
          "name": "stdout",
          "text": [
            "Total estratificado: 12169.33\n"
          ]
        }
      ],
      "source": [
        "# Estimacion  del total de horas de streaming en la poblacion\n",
        "T_estr = N * Y_estr\n",
        "print(f\"Total estratificado: {T_estr:.2f}\")"
      ]
    },
    {
      "cell_type": "code",
      "execution_count": 19,
      "id": "1ca03147",
      "metadata": {
        "id": "1ca03147",
        "outputId": "38d79311-6bef-4e71-a55b-079eb5b996c5",
        "colab": {
          "base_uri": "https://localhost:8080/"
        }
      },
      "outputs": [
        {
          "output_type": "stream",
          "name": "stdout",
          "text": [
            "Varianza estrato 1: 7.43\n",
            "Varianza estrato 2: 16.78\n",
            "Varianza estrato 3: 3.59\n"
          ]
        }
      ],
      "source": [
        "# Varianzas muestrales\n",
        "var1, var2, var3 = estrato1.var(ddof=1), estrato2.var(ddof=1), estrato3.var(ddof=1)\n",
        "print(f\"Varianza estrato 1: {var1:.2f}\")\n",
        "print(f\"Varianza estrato 2: {var2:.2f}\")\n",
        "print(f\"Varianza estrato 3: {var3:.2f}\")"
      ]
    },
    {
      "cell_type": "code",
      "execution_count": 20,
      "id": "d37a93dd",
      "metadata": {
        "id": "d37a93dd",
        "outputId": "d25ed960-c666-42f7-e568-77ab5ae77695",
        "colab": {
          "base_uri": "https://localhost:8080/"
        }
      },
      "outputs": [
        {
          "output_type": "stream",
          "name": "stdout",
          "text": [
            "Varianza de la media estratificada: 0.14\n",
            "Desviación estándar: 0.37\n"
          ]
        }
      ],
      "source": [
        "V_Yst = (W1**2 * var1 / n1 * (1-n1/N1) +\n",
        "         W2**2 * var2 / n2 * (1-n2/N2) +\n",
        "         W3**2 * var3 / n3 * (1-n3/N3))\n",
        "SE_Yst = np.sqrt(V_Yst)\n",
        "print(f\"Varianza de la media estratificada: {V_Yst:.2f}\")\n",
        "print(f\"Desviación estándar: {SE_Yst:.2f}\")"
      ]
    },
    {
      "cell_type": "code",
      "execution_count": 21,
      "id": "40ac3d80",
      "metadata": {
        "id": "40ac3d80",
        "outputId": "f4381b0e-2fd2-430f-ac13-448248687df5",
        "colab": {
          "base_uri": "https://localhost:8080/"
        }
      },
      "outputs": [
        {
          "output_type": "stream",
          "name": "stdout",
          "text": [
            "IC 95% para la media estratificada: (11.44, 12.90)\n"
          ]
        }
      ],
      "source": [
        "# Intervalo de confianza del 95% para la media estratificada\n",
        "# Usamos el valor crítico z=1.96 para el nivel de confianza del 95%.\n",
        "z = 1.96\n",
        "IC_media = (Y_st - z*SE_Yst, Y_st + z*SE_Yst)\n",
        "print(f\"IC 95% para la media estratificada: ({IC_media[0]:.2f}, {IC_media[1]:.2f})\")"
      ]
    },
    {
      "cell_type": "code",
      "execution_count": 22,
      "id": "64e7db74",
      "metadata": {
        "id": "64e7db74",
        "outputId": "56a43711-dd4a-4e60-be60-9167ad275f07",
        "colab": {
          "base_uri": "https://localhost:8080/"
        }
      },
      "outputs": [
        {
          "output_type": "stream",
          "name": "stdout",
          "text": [
            "IC 95% para el total de horas de uso: (11442.41, 12896.25)\n"
          ]
        }
      ],
      "source": [
        "# IC al 95% para el total de horas de uso\n",
        "V_T = N**2 * V_Yst\n",
        "SE_T = np.sqrt(V_T)\n",
        "IC_total = (T_hat - z*SE_T, T_hat + z*SE_T)\n",
        "print(f\"IC 95% para el total de horas de uso: ({IC_total[0]:.2f}, {IC_total[1]:.2f})\")"
      ]
    }
  ],
  "metadata": {
    "kernelspec": {
      "display_name": "Python 3",
      "language": "python",
      "name": "python3"
    },
    "language_info": {
      "codemirror_mode": {
        "name": "ipython",
        "version": 3
      },
      "file_extension": ".py",
      "mimetype": "text/x-python",
      "name": "python",
      "nbconvert_exporter": "python",
      "pygments_lexer": "ipython3",
      "version": "3.13.3"
    },
    "colab": {
      "provenance": []
    }
  },
  "nbformat": 4,
  "nbformat_minor": 5
}