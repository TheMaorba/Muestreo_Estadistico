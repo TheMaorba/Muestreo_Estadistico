{
  "nbformat": 4,
  "nbformat_minor": 0,
  "metadata": {
    "colab": {
      "provenance": []
    },
    "kernelspec": {
      "name": "python3",
      "display_name": "Python 3"
    },
    "language_info": {
      "name": "python"
    }
  },
  "cells": [
    {
      "cell_type": "code",
      "execution_count": 11,
      "metadata": {
        "id": "MQ-kewuarPwf"
      },
      "outputs": [],
      "source": [
        "import pandas as pd\n",
        "import numpy as np\n",
        "import scipy.stats as st"
      ]
    },
    {
      "cell_type": "code",
      "source": [
        "df = pd.read_excel('Actividad_Retail_Clientes.xlsx')"
      ],
      "metadata": {
        "id": "8bmxicz0renV"
      },
      "execution_count": 5,
      "outputs": []
    },
    {
      "cell_type": "code",
      "source": [
        "print(df.head())"
      ],
      "metadata": {
        "colab": {
          "base_uri": "https://localhost:8080/"
        },
        "id": "dNz2p25irrZG",
        "outputId": "8d1bd165-cb38-430b-b6d8-1f60f3691424"
      },
      "execution_count": null,
      "outputs": [
        {
          "output_type": "stream",
          "name": "stdout",
          "text": [
            "   ID  HoraIngreso  Compra  MontoCompra\n",
            "0   1           13       1         6.99\n",
            "1   2           19       0         0.00\n",
            "2   3           16       0         0.00\n",
            "3   4           15       1        26.24\n",
            "4   5           12       0         0.00\n"
          ]
        }
      ]
    },
    {
      "cell_type": "code",
      "source": [
        "df.shape"
      ],
      "metadata": {
        "colab": {
          "base_uri": "https://localhost:8080/"
        },
        "id": "wlTJi0Pnru4l",
        "outputId": "d0caf183-ce09-46a2-c79e-c61f0ca0e357"
      },
      "execution_count": 6,
      "outputs": [
        {
          "output_type": "execute_result",
          "data": {
            "text/plain": [
              "(450, 4)"
            ]
          },
          "metadata": {},
          "execution_count": 6
        }
      ]
    },
    {
      "cell_type": "markdown",
      "source": [
        "1. Estimar la proporcion de clientes que compran utilizando la muestra sistematica."
      ],
      "metadata": {
        "id": "xL02k3WusH2t"
      }
    },
    {
      "cell_type": "code",
      "source": [
        "N = len(df)\n",
        "compradores = df['Compra'].sum()\n",
        "proporcion_muestra = compradores / N\n",
        "\n",
        "print(f\"Clientes en la muestra: {N}\")\n",
        "print(f\"Clientes que compraron: {compradores}\")\n",
        "print(f\"Proporción de compradores en la muestra: {proporcion_muestra:.4f} ({proporcion_muestra*100:.2f}%)\")"
      ],
      "metadata": {
        "id": "RLK1e5TFs0PN",
        "colab": {
          "base_uri": "https://localhost:8080/"
        },
        "outputId": "e1d9208a-d23d-4f4b-fd65-ece8970b4164"
      },
      "execution_count": 7,
      "outputs": [
        {
          "output_type": "stream",
          "name": "stdout",
          "text": [
            "Clientes en la muestra: 450\n",
            "Clientes que compraron: 167\n",
            "Proporción de compradores en la muestra: 0.3711 (37.11%)\n"
          ]
        }
      ]
    },
    {
      "cell_type": "markdown",
      "source": [
        "2. Calcular el promedio y la desviacion estandar del monto de compra."
      ],
      "metadata": {
        "id": "9c4EdNnlsRzl"
      }
    },
    {
      "cell_type": "code",
      "source": [
        "monto_promedio_total = df['MontoCompra'].mean()\n",
        "monto_std_total = df['MontoCompra'].std(ddof=1)\n",
        "\n",
        "print(f\"Promedio del monto (todos los clientes): ${monto_promedio_total:.2f}\")\n",
        "print(f\"Desviación estándar (todos los clientes): ${monto_std_total:.2f}\")"
      ],
      "metadata": {
        "colab": {
          "base_uri": "https://localhost:8080/"
        },
        "id": "5ilD2pBlnc9c",
        "outputId": "da34bc26-2f08-4c74-e1bc-519c2a06ea88"
      },
      "execution_count": 8,
      "outputs": [
        {
          "output_type": "stream",
          "name": "stdout",
          "text": [
            "Promedio del monto (todos los clientes): $11.00\n",
            "Desviación estándar (todos los clientes): $22.99\n"
          ]
        }
      ]
    },
    {
      "cell_type": "code",
      "source": [
        "df_compradores = df[df['Compra'] == 1]\n",
        "monto_promedio_compradores = df_compradores['MontoCompra'].mean()\n",
        "monto_std_compradores = df_compradores['MontoCompra'].std(ddof=1)\n",
        "\n",
        "print(f\"\\nPromedio del monto (solo compradores): ${monto_promedio_compradores:.2f}\")\n",
        "print(f\"Desviación estándar (solo compradores): ${monto_std_compradores:.2f}\")"
      ],
      "metadata": {
        "colab": {
          "base_uri": "https://localhost:8080/"
        },
        "id": "7_8DWaQenx2N",
        "outputId": "779bcaa8-2086-4d82-ff91-09ab5aa8502b"
      },
      "execution_count": 9,
      "outputs": [
        {
          "output_type": "stream",
          "name": "stdout",
          "text": [
            "\n",
            "Promedio del monto (solo compradores): $29.63\n",
            "Desviación estándar (solo compradores): $29.56\n"
          ]
        }
      ]
    },
    {
      "cell_type": "markdown",
      "source": [
        "3. Construir un intervalo de confianza al 95% para la proporcion de compradores y para el monto promedio."
      ],
      "metadata": {
        "id": "V-FmHMIMsW8V"
      }
    },
    {
      "cell_type": "code",
      "source": [
        "alpha = 0.05\n",
        "z_alpha_2 = st.norm.ppf(1 - alpha/2)\n",
        "\n",
        "# Error estándar para la proporción\n",
        "se_proporcion = np.sqrt(proporcion_muestra * (1 - proporcion_muestra) / N)\n",
        "margen_error_prop = z_alpha_2 * se_proporcion\n",
        "\n",
        "ic_prop_inferior = max(0, proporcion_muestra - margen_error_prop)\n",
        "ic_prop_superior = min(1, proporcion_muestra + margen_error_prop)\n",
        "\n",
        "print(f\"Intervalo de confianza para la proporción de compradores:\")\n",
        "print(f\"  [{ic_prop_inferior:.4f}, {ic_prop_superior:.4f}]\")\n",
        "print(f\"  [{ic_prop_inferior*100:.2f}%, {ic_prop_superior*100:.2f}%]\")\n",
        "\n",
        "# Intervalo de confianza para el promedio del monto\n",
        "se_monto = monto_std_total / np.sqrt(N)\n",
        "margen_error_monto = z_alpha_2 * se_monto\n",
        "\n",
        "ic_monto_inferior = monto_promedio_total - margen_error_monto\n",
        "ic_monto_superior = monto_promedio_total + margen_error_monto\n",
        "\n",
        "print(f\"\\nIntervalo de confianza para el monto promedio:\")\n",
        "print(f\"  [${ic_monto_inferior:.2f}, ${ic_monto_superior:.2f}]\")"
      ],
      "metadata": {
        "colab": {
          "base_uri": "https://localhost:8080/"
        },
        "id": "-wBJhNXjn8nF",
        "outputId": "28f4a6ca-f42e-4003-b621-c228b928499a"
      },
      "execution_count": 15,
      "outputs": [
        {
          "output_type": "stream",
          "name": "stdout",
          "text": [
            "Intervalo de confianza para la proporción de compradores:\n",
            "  [0.3265, 0.4157]\n",
            "  [32.65%, 41.57%]\n",
            "\n",
            "Intervalo de confianza para el monto promedio:\n",
            "  [$8.87, $13.12]\n"
          ]
        }
      ]
    },
    {
      "cell_type": "markdown",
      "source": [
        "4. Estimar el numero total de compradores entre los 450 observados."
      ],
      "metadata": {
        "id": "-Dd3S63xsjHl"
      }
    },
    {
      "cell_type": "code",
      "source": [
        "poblacion_total = 450\n",
        "compradores_estimados = poblacion_total * proporcion_muestra\n",
        "se_compradores = poblacion_total * se_proporcion\n",
        "\n",
        "ic_compradores_inferior = max(0, compradores_estimados - z_alpha_2 * se_compradores)\n",
        "ic_compradores_superior = min(poblacion_total, compradores_estimados + z_alpha_2 * se_compradores)\n",
        "\n",
        "print(f\"Número estimado de compradores: {compradores_estimados:.0f}\")\n",
        "print(f\"Intervalo de confianza: [{ic_compradores_inferior:.0f}, {ic_compradores_superior:.0f}]\")"
      ],
      "metadata": {
        "colab": {
          "base_uri": "https://localhost:8080/"
        },
        "id": "5_p-mhuaoK0O",
        "outputId": "204f4e05-29bd-409a-9d25-9df5777747cd"
      },
      "execution_count": 16,
      "outputs": [
        {
          "output_type": "stream",
          "name": "stdout",
          "text": [
            "Número estimado de compradores: 167\n",
            "Intervalo de confianza: [147, 187]\n"
          ]
        }
      ]
    },
    {
      "cell_type": "markdown",
      "source": [
        "5. Analizar si existen horas pico o valle en los datos observados."
      ],
      "metadata": {
        "id": "h8FL71UZso7t"
      }
    },
    {
      "cell_type": "code",
      "source": [
        "hora_stats = df.groupby('HoraIngreso').agg({\n",
        "    'ID': 'count',\n",
        "    'Compra': ['sum', 'mean'],\n",
        "    'MontoCompra': ['mean', 'sum']\n",
        "}).round(2)\n",
        "\n",
        "hora_stats.columns = ['Clientes', 'Compradores', 'Tasa_Compra', 'Monto_Promedio', 'Monto_Total']\n",
        "\n",
        "print(\"Estadísticas por hora de ingreso:\")\n",
        "print(hora_stats)\n",
        "\n",
        "# Identificar horas pico y valle\n",
        "horas_con_mas_clientes = hora_stats.nlargest(3, 'Clientes')\n",
        "horas_con_menos_clientes = hora_stats.nsmallest(3, 'Clientes')\n",
        "\n",
        "print(f\"\\nHORAS PICO (más clientes observados):\")\n",
        "for hora in horas_con_mas_clientes.index:\n",
        "    clientes = horas_con_mas_clientes.loc[hora, 'Clientes']\n",
        "    print(f\"  {hora}:00 - {clientes} clientes\")\n",
        "\n",
        "print(f\"\\nHORAS VALLE (menos clientes observados):\")\n",
        "for hora in horas_con_menos_clientes.index:\n",
        "    clientes = horas_con_menos_clientes.loc[hora, 'Clientes']\n",
        "    print(f\"  {hora}:00 - {clientes} clientes\")\n",
        "\n",
        "# Análisis de comportamiento de compra por hora\n",
        "print(f\"\\nHORAS CON MAYOR TASA DE COMPRA:\")\n",
        "horas_alta_compra = hora_stats.nlargest(3, 'Tasa_Compra')\n",
        "for hora in horas_alta_compra.index:\n",
        "    tasa = horas_alta_compra.loc[hora, 'Tasa_Compra']\n",
        "    print(f\"  {hora}:00 - {tasa*100:.1f}% de tasa de compra\")\n",
        "\n",
        "print(f\"\\nHORAS CON MAYOR MONTO PROMEDIO:\")\n",
        "horas_alto_monto = hora_stats.nlargest(3, 'Monto_Promedio')\n",
        "for hora in horas_alto_monto.index:\n",
        "    monto = horas_alto_monto.loc[hora, 'Monto_Promedio']\n",
        "    if monto > 0:\n",
        "        print(f\"  {hora}:00 - ${monto:.2f} promedio\")"
      ],
      "metadata": {
        "colab": {
          "base_uri": "https://localhost:8080/"
        },
        "id": "7lk7Y_cjoQzB",
        "outputId": "58de7e88-b645-4632-f181-e0b74228c39b"
      },
      "execution_count": 17,
      "outputs": [
        {
          "output_type": "stream",
          "name": "stdout",
          "text": [
            "Estadísticas por hora de ingreso:\n",
            "             Clientes  Compradores  Tasa_Compra  Monto_Promedio  Monto_Total\n",
            "HoraIngreso                                                                 \n",
            "9                  27            7         0.26            7.31       197.44\n",
            "10                 31           11         0.35            9.11       282.49\n",
            "11                 21            7         0.33           12.28       257.92\n",
            "12                 39           12         0.31            8.77       341.86\n",
            "13                 72           27         0.38           11.75       846.31\n",
            "14                 57           21         0.37           10.83       617.21\n",
            "15                 64           32         0.50           16.36      1047.27\n",
            "16                 46           15         0.33            7.17       329.64\n",
            "17                 48           22         0.46           13.24       635.69\n",
            "18                 23            7         0.30            9.97       229.28\n",
            "19                 16            5         0.31            9.05       144.87\n",
            "20                  6            1         0.17            3.10        18.63\n",
            "\n",
            "HORAS PICO (más clientes observados):\n",
            "  13:00 - 72 clientes\n",
            "  15:00 - 64 clientes\n",
            "  14:00 - 57 clientes\n",
            "\n",
            "HORAS VALLE (menos clientes observados):\n",
            "  20:00 - 6 clientes\n",
            "  19:00 - 16 clientes\n",
            "  11:00 - 21 clientes\n",
            "\n",
            "HORAS CON MAYOR TASA DE COMPRA:\n",
            "  15:00 - 50.0% de tasa de compra\n",
            "  17:00 - 46.0% de tasa de compra\n",
            "  13:00 - 38.0% de tasa de compra\n",
            "\n",
            "HORAS CON MAYOR MONTO PROMEDIO:\n",
            "  15:00 - $16.36 promedio\n",
            "  17:00 - $13.24 promedio\n",
            "  11:00 - $12.28 promedio\n"
          ]
        }
      ]
    }
  ]
}