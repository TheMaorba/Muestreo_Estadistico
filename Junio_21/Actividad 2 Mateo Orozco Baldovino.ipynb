{
  "nbformat": 4,
  "nbformat_minor": 0,
  "metadata": {
    "colab": {
      "provenance": []
    },
    "kernelspec": {
      "name": "python3",
      "display_name": "Python 3"
    },
    "language_info": {
      "name": "python"
    }
  },
  "cells": [
    {
      "cell_type": "markdown",
      "source": [
        "# **Nombre: Mateo Orozco Baldovino**"
      ],
      "metadata": {
        "id": "bPXXYF0r-AqY"
      }
    },
    {
      "cell_type": "code",
      "source": [
        "import numpy as np\n",
        "import pandas as pd\n",
        "import matplotlib.pyplot as plt"
      ],
      "metadata": {
        "id": "Nriw4H0Fq0tO"
      },
      "execution_count": 23,
      "outputs": []
    },
    {
      "cell_type": "code",
      "execution_count": 41,
      "metadata": {
        "colab": {
          "base_uri": "https://localhost:8080/",
          "height": 206
        },
        "id": "whFfX40npVzq",
        "outputId": "5b51db44-cfd3-4497-a234-8a3e5d8341b4"
      },
      "outputs": [
        {
          "output_type": "execute_result",
          "data": {
            "text/plain": [
              "   ID  exerany\n",
              "0   1        0\n",
              "1   2        1\n",
              "2   3        1\n",
              "3   4        1\n",
              "4   5        0"
            ],
            "text/html": [
              "\n",
              "  <div id=\"df-6e68621e-4f8f-429d-9f87-8f4872a71b31\" class=\"colab-df-container\">\n",
              "    <div>\n",
              "<style scoped>\n",
              "    .dataframe tbody tr th:only-of-type {\n",
              "        vertical-align: middle;\n",
              "    }\n",
              "\n",
              "    .dataframe tbody tr th {\n",
              "        vertical-align: top;\n",
              "    }\n",
              "\n",
              "    .dataframe thead th {\n",
              "        text-align: right;\n",
              "    }\n",
              "</style>\n",
              "<table border=\"1\" class=\"dataframe\">\n",
              "  <thead>\n",
              "    <tr style=\"text-align: right;\">\n",
              "      <th></th>\n",
              "      <th>ID</th>\n",
              "      <th>exerany</th>\n",
              "    </tr>\n",
              "  </thead>\n",
              "  <tbody>\n",
              "    <tr>\n",
              "      <th>0</th>\n",
              "      <td>1</td>\n",
              "      <td>0</td>\n",
              "    </tr>\n",
              "    <tr>\n",
              "      <th>1</th>\n",
              "      <td>2</td>\n",
              "      <td>1</td>\n",
              "    </tr>\n",
              "    <tr>\n",
              "      <th>2</th>\n",
              "      <td>3</td>\n",
              "      <td>1</td>\n",
              "    </tr>\n",
              "    <tr>\n",
              "      <th>3</th>\n",
              "      <td>4</td>\n",
              "      <td>1</td>\n",
              "    </tr>\n",
              "    <tr>\n",
              "      <th>4</th>\n",
              "      <td>5</td>\n",
              "      <td>0</td>\n",
              "    </tr>\n",
              "  </tbody>\n",
              "</table>\n",
              "</div>\n",
              "    <div class=\"colab-df-buttons\">\n",
              "\n",
              "  <div class=\"colab-df-container\">\n",
              "    <button class=\"colab-df-convert\" onclick=\"convertToInteractive('df-6e68621e-4f8f-429d-9f87-8f4872a71b31')\"\n",
              "            title=\"Convert this dataframe to an interactive table.\"\n",
              "            style=\"display:none;\">\n",
              "\n",
              "  <svg xmlns=\"http://www.w3.org/2000/svg\" height=\"24px\" viewBox=\"0 -960 960 960\">\n",
              "    <path d=\"M120-120v-720h720v720H120Zm60-500h600v-160H180v160Zm220 220h160v-160H400v160Zm0 220h160v-160H400v160ZM180-400h160v-160H180v160Zm440 0h160v-160H620v160ZM180-180h160v-160H180v160Zm440 0h160v-160H620v160Z\"/>\n",
              "  </svg>\n",
              "    </button>\n",
              "\n",
              "  <style>\n",
              "    .colab-df-container {\n",
              "      display:flex;\n",
              "      gap: 12px;\n",
              "    }\n",
              "\n",
              "    .colab-df-convert {\n",
              "      background-color: #E8F0FE;\n",
              "      border: none;\n",
              "      border-radius: 50%;\n",
              "      cursor: pointer;\n",
              "      display: none;\n",
              "      fill: #1967D2;\n",
              "      height: 32px;\n",
              "      padding: 0 0 0 0;\n",
              "      width: 32px;\n",
              "    }\n",
              "\n",
              "    .colab-df-convert:hover {\n",
              "      background-color: #E2EBFA;\n",
              "      box-shadow: 0px 1px 2px rgba(60, 64, 67, 0.3), 0px 1px 3px 1px rgba(60, 64, 67, 0.15);\n",
              "      fill: #174EA6;\n",
              "    }\n",
              "\n",
              "    .colab-df-buttons div {\n",
              "      margin-bottom: 4px;\n",
              "    }\n",
              "\n",
              "    [theme=dark] .colab-df-convert {\n",
              "      background-color: #3B4455;\n",
              "      fill: #D2E3FC;\n",
              "    }\n",
              "\n",
              "    [theme=dark] .colab-df-convert:hover {\n",
              "      background-color: #434B5C;\n",
              "      box-shadow: 0px 1px 3px 1px rgba(0, 0, 0, 0.15);\n",
              "      filter: drop-shadow(0px 1px 2px rgba(0, 0, 0, 0.3));\n",
              "      fill: #FFFFFF;\n",
              "    }\n",
              "  </style>\n",
              "\n",
              "    <script>\n",
              "      const buttonEl =\n",
              "        document.querySelector('#df-6e68621e-4f8f-429d-9f87-8f4872a71b31 button.colab-df-convert');\n",
              "      buttonEl.style.display =\n",
              "        google.colab.kernel.accessAllowed ? 'block' : 'none';\n",
              "\n",
              "      async function convertToInteractive(key) {\n",
              "        const element = document.querySelector('#df-6e68621e-4f8f-429d-9f87-8f4872a71b31');\n",
              "        const dataTable =\n",
              "          await google.colab.kernel.invokeFunction('convertToInteractive',\n",
              "                                                    [key], {});\n",
              "        if (!dataTable) return;\n",
              "\n",
              "        const docLinkHtml = 'Like what you see? Visit the ' +\n",
              "          '<a target=\"_blank\" href=https://colab.research.google.com/notebooks/data_table.ipynb>data table notebook</a>'\n",
              "          + ' to learn more about interactive tables.';\n",
              "        element.innerHTML = '';\n",
              "        dataTable['output_type'] = 'display_data';\n",
              "        await google.colab.output.renderOutput(dataTable, element);\n",
              "        const docLink = document.createElement('div');\n",
              "        docLink.innerHTML = docLinkHtml;\n",
              "        element.appendChild(docLink);\n",
              "      }\n",
              "    </script>\n",
              "  </div>\n",
              "\n",
              "\n",
              "    <div id=\"df-73508da4-bd52-41f9-ade3-fbbccc000c79\">\n",
              "      <button class=\"colab-df-quickchart\" onclick=\"quickchart('df-73508da4-bd52-41f9-ade3-fbbccc000c79')\"\n",
              "                title=\"Suggest charts\"\n",
              "                style=\"display:none;\">\n",
              "\n",
              "<svg xmlns=\"http://www.w3.org/2000/svg\" height=\"24px\"viewBox=\"0 0 24 24\"\n",
              "     width=\"24px\">\n",
              "    <g>\n",
              "        <path d=\"M19 3H5c-1.1 0-2 .9-2 2v14c0 1.1.9 2 2 2h14c1.1 0 2-.9 2-2V5c0-1.1-.9-2-2-2zM9 17H7v-7h2v7zm4 0h-2V7h2v10zm4 0h-2v-4h2v4z\"/>\n",
              "    </g>\n",
              "</svg>\n",
              "      </button>\n",
              "\n",
              "<style>\n",
              "  .colab-df-quickchart {\n",
              "      --bg-color: #E8F0FE;\n",
              "      --fill-color: #1967D2;\n",
              "      --hover-bg-color: #E2EBFA;\n",
              "      --hover-fill-color: #174EA6;\n",
              "      --disabled-fill-color: #AAA;\n",
              "      --disabled-bg-color: #DDD;\n",
              "  }\n",
              "\n",
              "  [theme=dark] .colab-df-quickchart {\n",
              "      --bg-color: #3B4455;\n",
              "      --fill-color: #D2E3FC;\n",
              "      --hover-bg-color: #434B5C;\n",
              "      --hover-fill-color: #FFFFFF;\n",
              "      --disabled-bg-color: #3B4455;\n",
              "      --disabled-fill-color: #666;\n",
              "  }\n",
              "\n",
              "  .colab-df-quickchart {\n",
              "    background-color: var(--bg-color);\n",
              "    border: none;\n",
              "    border-radius: 50%;\n",
              "    cursor: pointer;\n",
              "    display: none;\n",
              "    fill: var(--fill-color);\n",
              "    height: 32px;\n",
              "    padding: 0;\n",
              "    width: 32px;\n",
              "  }\n",
              "\n",
              "  .colab-df-quickchart:hover {\n",
              "    background-color: var(--hover-bg-color);\n",
              "    box-shadow: 0 1px 2px rgba(60, 64, 67, 0.3), 0 1px 3px 1px rgba(60, 64, 67, 0.15);\n",
              "    fill: var(--button-hover-fill-color);\n",
              "  }\n",
              "\n",
              "  .colab-df-quickchart-complete:disabled,\n",
              "  .colab-df-quickchart-complete:disabled:hover {\n",
              "    background-color: var(--disabled-bg-color);\n",
              "    fill: var(--disabled-fill-color);\n",
              "    box-shadow: none;\n",
              "  }\n",
              "\n",
              "  .colab-df-spinner {\n",
              "    border: 2px solid var(--fill-color);\n",
              "    border-color: transparent;\n",
              "    border-bottom-color: var(--fill-color);\n",
              "    animation:\n",
              "      spin 1s steps(1) infinite;\n",
              "  }\n",
              "\n",
              "  @keyframes spin {\n",
              "    0% {\n",
              "      border-color: transparent;\n",
              "      border-bottom-color: var(--fill-color);\n",
              "      border-left-color: var(--fill-color);\n",
              "    }\n",
              "    20% {\n",
              "      border-color: transparent;\n",
              "      border-left-color: var(--fill-color);\n",
              "      border-top-color: var(--fill-color);\n",
              "    }\n",
              "    30% {\n",
              "      border-color: transparent;\n",
              "      border-left-color: var(--fill-color);\n",
              "      border-top-color: var(--fill-color);\n",
              "      border-right-color: var(--fill-color);\n",
              "    }\n",
              "    40% {\n",
              "      border-color: transparent;\n",
              "      border-right-color: var(--fill-color);\n",
              "      border-top-color: var(--fill-color);\n",
              "    }\n",
              "    60% {\n",
              "      border-color: transparent;\n",
              "      border-right-color: var(--fill-color);\n",
              "    }\n",
              "    80% {\n",
              "      border-color: transparent;\n",
              "      border-right-color: var(--fill-color);\n",
              "      border-bottom-color: var(--fill-color);\n",
              "    }\n",
              "    90% {\n",
              "      border-color: transparent;\n",
              "      border-bottom-color: var(--fill-color);\n",
              "    }\n",
              "  }\n",
              "</style>\n",
              "\n",
              "      <script>\n",
              "        async function quickchart(key) {\n",
              "          const quickchartButtonEl =\n",
              "            document.querySelector('#' + key + ' button');\n",
              "          quickchartButtonEl.disabled = true;  // To prevent multiple clicks.\n",
              "          quickchartButtonEl.classList.add('colab-df-spinner');\n",
              "          try {\n",
              "            const charts = await google.colab.kernel.invokeFunction(\n",
              "                'suggestCharts', [key], {});\n",
              "          } catch (error) {\n",
              "            console.error('Error during call to suggestCharts:', error);\n",
              "          }\n",
              "          quickchartButtonEl.classList.remove('colab-df-spinner');\n",
              "          quickchartButtonEl.classList.add('colab-df-quickchart-complete');\n",
              "        }\n",
              "        (() => {\n",
              "          let quickchartButtonEl =\n",
              "            document.querySelector('#df-73508da4-bd52-41f9-ade3-fbbccc000c79 button');\n",
              "          quickchartButtonEl.style.display =\n",
              "            google.colab.kernel.accessAllowed ? 'block' : 'none';\n",
              "        })();\n",
              "      </script>\n",
              "    </div>\n",
              "\n",
              "    </div>\n",
              "  </div>\n"
            ],
            "application/vnd.google.colaboratory.intrinsic+json": {
              "type": "dataframe",
              "variable_name": "df",
              "summary": "{\n  \"name\": \"df\",\n  \"rows\": 1000,\n  \"fields\": [\n    {\n      \"column\": \"ID\",\n      \"properties\": {\n        \"dtype\": \"number\",\n        \"std\": 288,\n        \"min\": 1,\n        \"max\": 1000,\n        \"num_unique_values\": 1000,\n        \"samples\": [\n          522,\n          738,\n          741\n        ],\n        \"semantic_type\": \"\",\n        \"description\": \"\"\n      }\n    },\n    {\n      \"column\": \"exerany\",\n      \"properties\": {\n        \"dtype\": \"number\",\n        \"std\": 0,\n        \"min\": 0,\n        \"max\": 1,\n        \"num_unique_values\": 2,\n        \"samples\": [\n          1,\n          0\n        ],\n        \"semantic_type\": \"\",\n        \"description\": \"\"\n      }\n    }\n  ]\n}"
            }
          },
          "metadata": {},
          "execution_count": 41
        }
      ],
      "source": [
        "# Importar archivo salud\n",
        "\n",
        "df = pd.read_excel('Salud.xlsx')\n",
        "np.random.seed(1)\n",
        "df.head()"
      ]
    },
    {
      "cell_type": "code",
      "source": [
        "print(f\"Número total de personas en el dataset: {len(df)}\")"
      ],
      "metadata": {
        "colab": {
          "base_uri": "https://localhost:8080/"
        },
        "id": "3fzCDYjosQUF",
        "outputId": "ea23b0db-5439-401f-a609-9aafd8be3a23"
      },
      "execution_count": 25,
      "outputs": [
        {
          "output_type": "stream",
          "name": "stdout",
          "text": [
            "Número total de personas en el dataset: 1000\n"
          ]
        }
      ]
    },
    {
      "cell_type": "code",
      "source": [
        "N = 1000\n"
      ],
      "metadata": {
        "id": "-t9adOPvrI89"
      },
      "execution_count": 26,
      "outputs": []
    },
    {
      "cell_type": "code",
      "source": [
        "# Parámetros del muestreo sistemático\n",
        "n = 100  # tamaño de la muestra deseada\n",
        "k = N // n  # intervalo de muestreo\n",
        "r = np.random.randint(1, k+1)  # punto de inicio aleatorio\n",
        "\n"
      ],
      "metadata": {
        "id": "Uz5FcPwSqv32"
      },
      "execution_count": 27,
      "outputs": []
    },
    {
      "cell_type": "code",
      "source": [
        "# Asumiendo que N (tamaño de la población) ya está definido, por ejemplo:\n",
        "N = 1000 # Ejemplo: tamaño de tu DataFrame df\n",
        "# Parámetros del muestreo sistemático\n",
        "n = 100  # tamaño de la muestra deseada\n",
        "k = N // n  # intervalo de muestreo\n",
        "np.random.seed(6)\n",
        "r = np.random.randint(1, k+1)"
      ],
      "metadata": {
        "id": "_36E9tH-wtpd"
      },
      "execution_count": 47,
      "outputs": []
    },
    {
      "cell_type": "code",
      "source": [
        "# Selección sistemática\n",
        "indices_muestra = np.arange(r-1, N, k)  # -1 porque Python indexa desde 0\n",
        "muestra = df.iloc[indices_muestra]\n",
        "\n",
        "print(f\"Tamaño de la población: {N}\")\n",
        "print(f\"Tamaño de la muestra: {n}\")\n",
        "print(f\"Intervalo de muestreo: {k}\")\n",
        "print(f\"Punto de inicio aleatorio: {r}\")\n"
      ],
      "metadata": {
        "colab": {
          "base_uri": "https://localhost:8080/"
        },
        "collapsed": true,
        "id": "2GRQ03VTrn8v",
        "outputId": "1bdee9a6-4b5d-43b4-beba-4e93b5e6102f"
      },
      "execution_count": 48,
      "outputs": [
        {
          "output_type": "stream",
          "name": "stdout",
          "text": [
            "Tamaño de la población: 1000\n",
            "Tamaño de la muestra: 100\n",
            "Intervalo de muestreo: 10\n",
            "Punto de inicio aleatorio: 10\n"
          ]
        }
      ]
    },
    {
      "cell_type": "code",
      "source": [
        "variable_interes = 'exerany'"
      ],
      "metadata": {
        "id": "0As0WVHIslTk"
      },
      "execution_count": 29,
      "outputs": []
    },
    {
      "cell_type": "code",
      "source": [
        "# Asegurarse de que la columna 'exerany' sea numérica (0 o 1)\n",
        "df[variable_interes] = pd.to_numeric(df[variable_interes], errors='coerce')\n",
        "df = df.dropna(subset=[variable_interes]) # Eliminar filas con NaN si hubo errores en la conversión\n",
        "df[variable_interes] = df[variable_interes].astype(int) # Asegurar que sean enteros 0 o 1"
      ],
      "metadata": {
        "id": "fETIGKyJsgMd"
      },
      "execution_count": 30,
      "outputs": []
    },
    {
      "cell_type": "code",
      "source": [
        "# Proporción de personas que hicieron ejercicio para la población completa (referencia)\n",
        "proporcion_poblacion = df[variable_interes].mean()\n",
        "print(f\"\\nProporción en la población completa (referencia): {proporcion_poblacion:.4f}\")"
      ],
      "metadata": {
        "colab": {
          "base_uri": "https://localhost:8080/"
        },
        "id": "q5AQrKhetqe9",
        "outputId": "b8b11728-7338-42e1-b778-92a72b32f569"
      },
      "execution_count": 31,
      "outputs": [
        {
          "output_type": "stream",
          "name": "stdout",
          "text": [
            "\n",
            "Proporción en la población completa (referencia): 0.6560\n"
          ]
        }
      ]
    },
    {
      "cell_type": "code",
      "source": [
        "# Proporción en la muestra Sistemática\n",
        "proporcion_sistematica = muestra[variable_interes].mean()\n",
        "print(f\"Proporción de ejercicio en la Muestra Sistemática: {proporcion_sistematica:.4f}\")"
      ],
      "metadata": {
        "colab": {
          "base_uri": "https://localhost:8080/"
        },
        "id": "w-EWAPYPt7hF",
        "outputId": "d94f5b09-edf3-4973-bdb8-2732434fbef7"
      },
      "execution_count": 34,
      "outputs": [
        {
          "output_type": "stream",
          "name": "stdout",
          "text": [
            "Proporción de ejercicio en la Muestra Sistemática: 0.6300\n"
          ]
        }
      ]
    },
    {
      "cell_type": "code",
      "source": [
        "n = 100\n",
        "muestra_mas = df.sample(n=n, replace=False)\n",
        "proporcion_mas = muestra_mas[variable_interes].mean()"
      ],
      "metadata": {
        "id": "ksanCYvPumrG"
      },
      "execution_count": 35,
      "outputs": []
    },
    {
      "cell_type": "code",
      "source": [
        "# Proporción en la muestra MAS\n",
        "proporcion_mas = muestra_mas[variable_interes].mean()\n",
        "print(f\"Proporción de ejercicio en la Muestra Aleatoria Simple (MAS): {proporcion_mas:.4f}\")"
      ],
      "metadata": {
        "colab": {
          "base_uri": "https://localhost:8080/"
        },
        "id": "VvstVrrbt2j9",
        "outputId": "98cf6f11-dbd3-432e-c1d4-641c4af936c9"
      },
      "execution_count": 36,
      "outputs": [
        {
          "output_type": "stream",
          "name": "stdout",
          "text": [
            "Proporción de ejercicio en la Muestra Aleatoria Simple (MAS): 0.6800\n"
          ]
        }
      ]
    },
    {
      "cell_type": "code",
      "source": [
        "import pandas as pd\n",
        "import numpy as np\n",
        "# Función para realizar muestreo MAS y sistemático y calcular la proporción\n",
        "def muestreo_y_proporcion(df, n, variable_interes, seed):\n",
        "  \"\"\"\n",
        "  Realiza muestreo MAS y sistemático y calcula la proporción de una variable.\n",
        "\n",
        "  Args:\n",
        "    df: DataFrame de entrada.\n",
        "    n: Tamaño de la muestra.\n",
        "    variable_interes: Nombre de la columna de interés (binaria 0/1).\n",
        "    seed: Semilla para la reproducibilidad de los resultados.\n",
        "\n",
        "  Returns:\n",
        "    Un diccionario con las proporciones para MAS y Sistemático.\n",
        "  \"\"\"\n",
        "  N = len(df)\n",
        "  k = N // n\n",
        "\n",
        "  # Muestreo Aleatorio Simple (MAS)\n",
        "  np.random.seed(seed)\n",
        "  muestra_mas = df.sample(n=n, replace=False)\n",
        "  proporcion_mas = muestra_mas[variable_interes].mean()\n",
        "\n",
        "  # Muestreo Sistemático\n",
        "  np.random.seed(seed)\n",
        "  r = np.random.randint(1, k + 1)\n",
        "  indices_muestra = np.arange(r - 1, N, k)\n",
        "  muestra_sistematica = df.iloc[indices_muestra]\n",
        "  proporcion_sistematica = muestra_sistematica[variable_interes].mean()\n",
        "\n",
        "  return {\n",
        "      'seed': seed,\n",
        "      'proporcion_mas': proporcion_mas,\n",
        "      'proporcion_sistematica': proporcion_sistematica,\n",
        "      'punto_inicio_sistematico': r\n",
        "  }\n",
        "\n",
        "# Repetir el proceso 5 veces con diferentes semillas\n",
        "n_repeticiones = 5\n",
        "resultados = []\n",
        "variable_interes = 'exerany' # Asegúrate de que esta columna exista y esté preprocesada como 0/1\n",
        "\n",
        "# Asegurarse de que la columna 'exerany' sea numérica (0 o 1) y sin NaNs\n",
        "df[variable_interes] = pd.to_numeric(df[variable_interes], errors='coerce')\n",
        "df = df.dropna(subset=[variable_interes])\n",
        "df[variable_interes] = df[variable_interes].astype(int)\n",
        "\n",
        "for i in range(n_repeticiones):\n",
        "  seed = i + 1 # Usar semillas del 1 al 5\n",
        "  resultado = muestreo_y_proporcion(df.copy(), n, variable_interes, seed) # Usar una copia para evitar modificar el df original\n",
        "  resultados.append(resultado)\n",
        "\n",
        "# Imprimir los resultados\n",
        "print(\"Resultados de los muestreos y proporciones:\")\n",
        "for res in resultados:\n",
        "  print(f\"\\n--- Semilla: {res['seed']} ---\")\n",
        "  print(f\"Muestreo Aleatorio Simple (MAS): Proporción = {res['proporcion_mas']:.4f}\")\n",
        "  print(f\"Muestreo Sistemático: Proporción = {res['proporcion_sistematica']:.4f} (Punto de inicio: {res['punto_inicio_sistematico']})\")\n",
        "\n"
      ],
      "metadata": {
        "colab": {
          "base_uri": "https://localhost:8080/"
        },
        "id": "BFOsgkvhxs7V",
        "outputId": "d8c99138-dd13-455f-effd-d7e750ea468c"
      },
      "execution_count": 61,
      "outputs": [
        {
          "output_type": "stream",
          "name": "stdout",
          "text": [
            "Resultados de los muestreos y proporciones:\n",
            "\n",
            "--- Semilla: 1 ---\n",
            "Muestreo Aleatorio Simple (MAS): Proporción = 0.5900\n",
            "Muestreo Sistemático: Proporción = 0.6500 (Punto de inicio: 6)\n",
            "\n",
            "--- Semilla: 2 ---\n",
            "Muestreo Aleatorio Simple (MAS): Proporción = 0.5800\n",
            "Muestreo Sistemático: Proporción = 0.6300 (Punto de inicio: 9)\n",
            "\n",
            "--- Semilla: 3 ---\n",
            "Muestreo Aleatorio Simple (MAS): Proporción = 0.6600\n",
            "Muestreo Sistemático: Proporción = 0.6300 (Punto de inicio: 9)\n",
            "\n",
            "--- Semilla: 4 ---\n",
            "Muestreo Aleatorio Simple (MAS): Proporción = 0.5800\n",
            "Muestreo Sistemático: Proporción = 0.6400 (Punto de inicio: 8)\n",
            "\n",
            "--- Semilla: 5 ---\n",
            "Muestreo Aleatorio Simple (MAS): Proporción = 0.6900\n",
            "Muestreo Sistemático: Proporción = 0.6300 (Punto de inicio: 4)\n"
          ]
        }
      ]
    },
    {
      "cell_type": "markdown",
      "source": [
        "**¿Cuál diseño produce estimaciones más estables?**\n",
        "\n",
        "El Muestreo Aleatorio Simple (MAS) parece producir estimaciones ligeramente menos estables en este conjunto de pruebas. Sus proporciones varían desde 0.5800 hasta 0.6900. Por otro lado, el Muestreo Sistemático muestra una variación más contenida, con proporciones que oscilan entre 0.6300 y 0.6500 (incluyendo el punto de inicio que podría influir), sugiriendo una mayor estabilidad en sus estimaciones a través de diferentes semillas y puntos de inicio.\n",
        "\n",
        "**¿Observas diferencias en la variabilidad?**\n",
        "\n",
        "Sí, se observan diferencias en la variabilidad entre ambos diseños. La variabilidad de las proporciones obtenidas por Muestreo Aleatorio Simple (MAS) es mayor, cubriendo un rango más amplio de valores (0.5800 a 0.6900). En contraste, el Muestreo Sistemático presenta una menor variabilidad en las proporciones (0.6300 a 0.6500), lo que indica que sus estimaciones tienden a agruparse más estrechamente.\n",
        "\n",
        "**¿Qué limitaciones tiene el muestreo sistemático en este caso?**\n",
        "\n",
        "En este caso, la principal limitación del muestreo sistemático radica en la posibilidad de sesgo si existe un patrón o periodicidad subyacente en la lista ordenada de la población que coincide con el intervalo de muestreo (k). Si, por ejemplo, cada décimo ID en el dataset de 'Salud' correspondiera a un tipo específico de persona con una tendencia particular a hacer ejercicio, el muestreo sistemático podría subestimar o sobrestimar consistentemente la proporción real. Además, la calidad de la muestra sistemática depende en gran medida del punto de inicio aleatorio (r), ya que un mal punto de inicio en una lista con patrones podría sesgar la muestra.\n",
        "\n",
        "**¿Cuál diseño recomendarías y por qué?**\n",
        "\n",
        "Para la mayoría de los escenarios generales donde no se tiene conocimiento previo de patrones en la población o una ordenación particular que pudiera introducir sesgos, recomendaría el Muestreo Aleatorio Simple (MAS). Aunque en esta simulación particular el sistemático mostró un poco más de estabilidad, el MAS es metodológicamente más robusto y tiene una base teórica sólida (como la que fundamenta el Teorema Central del Límite) que garantiza que, en promedio, sus estimaciones serán imparciales y su variabilidad puede ser cuantificada con precisión. Sin embargo, si la población está naturalmente ordenada de una manera que no introduce un sesgo periódico y la implementación logística es más sencilla (por ejemplo, muestreo de clientes en una línea de producción), el muestreo sistemático podría ser una alternativa eficiente."
      ],
      "metadata": {
        "id": "KZ_Q8InF0UdV"
      }
    },
    {
      "cell_type": "code",
      "source": [
        "# Importar dataframe pasajeros\n",
        "\n",
        "df_pasajeros = pd.read_excel('pasajeros.xlsx')\n",
        "df_pasajeros.head()\n",
        "\n",
        "# Variable de interés: Pasajeros por mes (2015-2024)\n",
        "variable_interes2 = 'Pasajeros'\n",
        "\n",
        "# Asegúrate de que la columna 'Fecha' sea de tipo datetime si aún no lo es\n",
        "df_pasajeros['Fecha'] = pd.to_datetime(df_pasajeros['Fecha'])\n",
        "\n",
        "# Establecer la columna 'Fecha' como índice para facilitar el muestreo basado en tiempo\n",
        "df_pasajeros = df_pasajeros.set_index('Fecha')\n",
        "\n",
        "# Calcular el número total de meses disponibles\n",
        "N_meses = len(df_pasajeros)\n",
        "\n",
        "# Tamaño de la muestra deseada (n=12 meses)\n",
        "n_muestra_meses = 12\n",
        "\n",
        "# --- Muestreo Aleatorio Simple (MAS) de 12 meses ---\n",
        "np.random.seed(6) # para reproducibilidad\n",
        "indices_aleatorios = np.random.choice(N_meses, size=n_muestra_meses, replace=False)\n",
        "muestra_mas_meses = df_pasajeros.iloc[indices_aleatorios]\n",
        "\n",
        "\n",
        "# --- Muestreo Sistemático de 12 meses ---\n",
        "# Calcular el intervalo de muestreo\n",
        "k_meses = N_meses // n_muestra_meses\n",
        "\n",
        "# Seleccionar un punto de inicio aleatorio\n",
        "np.random.seed(42) # Usar la misma semilla o una diferente si se desea\n",
        "r_meses = np.random.randint(1, k_meses + 1)\n",
        "\n",
        "# Seleccionar los índices para el muestreo sistemático\n",
        "indices_sistematico_meses = np.arange(r_meses - 1, N_meses, k_meses)\n",
        "\n",
        "\n",
        "if len(indices_sistematico_meses) < n_muestra_meses:\n",
        "\n",
        "    indices_sistematico_meses = np.arange(r_meses - 1, N_meses, k_meses)[:n_muestra_meses]\n",
        "\n",
        "\n",
        "muestra_sistematica_meses = df_pasajeros.iloc[indices_sistematico_meses]\n",
        "\n",
        "print(\"\\n--- Muestra Sistemática de 12 meses ---\")\n",
        "print(f\"Intervalo de muestreo (k): {k_meses}\")\n",
        "print(f\"Punto de inicio aleatorio (r): {r_meses}\")\n",
        "\n",
        "\n",
        "# --- Calcular la media mensual de pasajeros ---\n",
        "# Media para la muestra MAS\n",
        "media_mas_pasajeros = muestra_mas_meses[variable_interes2].mean()\n",
        "print(f\"\\nMedia mensual de pasajeros en la Muestra Aleatoria Simple (MAS): {media_mas_pasajeros:.2f}\")\n",
        "\n",
        "# Media para la muestra Sistemática\n",
        "media_sistematica_pasajeros = muestra_sistematica_meses[variable_interes2].mean()\n",
        "print(f\"Media mensual de pasajeros en la Muestra Sistemática: {media_sistematica_pasajeros:.2f}\")\n",
        "\n",
        "# Media para la población completa (opcional, como referencia)\n",
        "media_poblacion_pasajeros = df_pasajeros[variable_interes2].mean()\n",
        "print(f\"Media mensual de pasajeros en la Población completa: {media_poblacion_pasajeros:.2f}\")\n",
        "\n"
      ],
      "metadata": {
        "colab": {
          "base_uri": "https://localhost:8080/"
        },
        "id": "Fb5idEKK2de9",
        "outputId": "afabc2ee-2f83-44cf-c175-7466ca9a3212"
      },
      "execution_count": 91,
      "outputs": [
        {
          "output_type": "stream",
          "name": "stdout",
          "text": [
            "\n",
            "--- Muestra Sistemática de 12 meses ---\n",
            "Intervalo de muestreo (k): 10\n",
            "Punto de inicio aleatorio (r): 7\n",
            "\n",
            "Media mensual de pasajeros en la Muestra Aleatoria Simple (MAS): 142411.50\n",
            "Media mensual de pasajeros en la Muestra Sistemática: 151844.33\n",
            "Media mensual de pasajeros en la Población completa: 149603.67\n"
          ]
        }
      ]
    },
    {
      "cell_type": "code",
      "source": [
        "import pandas as pd\n",
        "import numpy as np\n",
        "# Función para realizar muestreo MAS y sistemático y calcular la media\n",
        "def muestreo_y_media(df, n, variable_interes, seed):\n",
        "\n",
        "  N = len(df)\n",
        "  k = N // n\n",
        "\n",
        "  # Muestreo Aleatorio Simple (MAS)\n",
        "  np.random.seed(seed)\n",
        "  indices_aleatorios = np.random.choice(N, size=n, replace=False)\n",
        "  muestra_mas = df.iloc[indices_aleatorios]\n",
        "  media_mas = muestra_mas[variable_interes].mean()\n",
        "\n",
        "  # Muestreo Sistemático\n",
        "  np.random.seed(seed)\n",
        "  r = np.random.randint(1, k + 1)\n",
        "  indices_sistematico = np.arange(r - 1, N, k)\n",
        "\n",
        "  # Ajustar si el último paso excede el tamaño deseado\n",
        "  if len(indices_sistematico) > n:\n",
        "      indices_sistematico = indices_sistematico[:n]\n",
        "  elif len(indices_sistematico) < n:\n",
        "      # Esto puede ocurrir si N % n != 0 y el cálculo inicial de k es un entero truncado\n",
        "      # Una solución es ajustar k ligeramente o permitir un tamaño de muestra ligeramente diferente\n",
        "      # Para mantener n fijo, podemos intentar incluir el último elemento si n no se alcanza\n",
        "      if N not in indices_sistematico and len(indices_sistematico) < n:\n",
        "          indices_sistematico = np.append(indices_sistematico, N-1)\n",
        "      # Si aún no se alcanza n, se podría necesitar un ajuste más complejo o aceptar un tamaño ligeramente menor\n",
        "      indices_sistematico = indices_sistematico[:n] # Asegurar que no exceda n, aunque podría ser menor\n",
        "\n",
        "  muestra_sistematica = df.iloc[indices_sistematico]\n",
        "  media_sistematica = muestra_sistematica[variable_interes].mean()\n",
        "\n",
        "\n",
        "  return {\n",
        "      'seed': seed,\n",
        "      'media_mas': media_mas,\n",
        "      'media_sistematica': media_sistematica,\n",
        "      'punto_inicio_sistematico': r,\n",
        "      'tamano_sistematico_real': len(muestra_sistematica) # Opcional: para verificar el tamaño real\n",
        "  }\n",
        "\n",
        "# Repetir el proceso 5 veces con diferentes semillas para el dataset de pasajeros\n",
        "n_repeticiones = 5\n",
        "resultados_pasajeros = []\n",
        "variable_interes2 = 'Pasajeros' # Asegúrate de que esta columna exista y sea numérica\n",
        "n_muestra_meses = 12\n",
        "\n",
        "# Asegurarse de que la columna de interés sea numérica\n",
        "df_pasajeros[variable_interes2] = pd.to_numeric(df_pasajeros[variable_interes2], errors='coerce')\n",
        "df_pasajeros = df_pasajeros.dropna(subset=[variable_interes2]) # Eliminar NaNs si hay\n",
        "\n",
        "for i in range(n_repeticiones):\n",
        "  seed = i + 1 # Usar semillas diferentes, por ejemplo del 1 al 5\n",
        "  resultado = muestreo_y_media(df_pasajeros.copy(), n_muestra_meses, variable_interes2, seed) # Usar una copia\n",
        "  resultados_pasajeros.append(resultado)\n",
        "\n",
        "# Imprimir los resultados para el dataset de pasajeros\n",
        "print(\"\\nResultados de los muestreos y medias (Dataset Pasajeros):\")\n",
        "for res in resultados_pasajeros:\n",
        "  print(f\"\\n--- Semilla: {res['seed']} ---\")\n",
        "  print(f\"Muestreo Aleatorio Simple (MAS): Media = {res['media_mas']:.2f}\")\n",
        "  print(f\"Muestreo Sistemático: Media = {res['media_sistematica']:.2f} (Punto de inicio: {res['punto_inicio_sistematico']}, Tamaño real: {res['tamano_sistematico_real']})\")\n",
        "\n",
        "# Media para la población completa (referencia)\n",
        "media_poblacion_pasajeros = df_pasajeros[variable_interes2].mean()\n",
        "print(f\"\\nMedia mensual de pasajeros en la Población completa (referencia): {media_poblacion_pasajeros:.2f}\")"
      ],
      "metadata": {
        "colab": {
          "base_uri": "https://localhost:8080/"
        },
        "id": "JPrxxo9h2-Ju",
        "outputId": "32826087-1c49-412f-8a24-77210722c1b5"
      },
      "execution_count": 92,
      "outputs": [
        {
          "output_type": "stream",
          "name": "stdout",
          "text": [
            "\n",
            "Resultados de los muestreos y medias (Dataset Pasajeros):\n",
            "\n",
            "--- Semilla: 1 ---\n",
            "Muestreo Aleatorio Simple (MAS): Media = 163359.50\n",
            "Muestreo Sistemático: Media = 150096.17 (Punto de inicio: 6, Tamaño real: 12)\n",
            "\n",
            "--- Semilla: 2 ---\n",
            "Muestreo Aleatorio Simple (MAS): Media = 146625.67\n",
            "Muestreo Sistemático: Media = 152398.08 (Punto de inicio: 9, Tamaño real: 12)\n",
            "\n",
            "--- Semilla: 3 ---\n",
            "Muestreo Aleatorio Simple (MAS): Media = 155874.00\n",
            "Muestreo Sistemático: Media = 152398.08 (Punto de inicio: 9, Tamaño real: 12)\n",
            "\n",
            "--- Semilla: 4 ---\n",
            "Muestreo Aleatorio Simple (MAS): Media = 127016.08\n",
            "Muestreo Sistemático: Media = 152327.67 (Punto de inicio: 8, Tamaño real: 12)\n",
            "\n",
            "--- Semilla: 5 ---\n",
            "Muestreo Aleatorio Simple (MAS): Media = 137796.42\n",
            "Muestreo Sistemático: Media = 148164.58 (Punto de inicio: 4, Tamaño real: 12)\n",
            "\n",
            "Media mensual de pasajeros en la Población completa (referencia): 149603.67\n"
          ]
        }
      ]
    },
    {
      "cell_type": "markdown",
      "source": [
        "**¿Qué diferencias observas entre los métodos?**\n",
        "\n",
        "El Muestreo Aleatorio Simple (MAS) muestra una mayor variabilidad en sus estimaciones de la media (desde 127016.08 hasta 163359.50) en comparación con el Muestreo Sistemático. El Muestreo Sistemático, por su parte, produce medias más consistentes y agrupadas (oscilando entre 148164.58 y 152398.08). Además, la \"Media mensual de pasajeros en la Población completa\" es 149603.67. El MAS (142411.50) subestimó la media real, mientras que el Sistemático (151844.33) estuvo más cerca, sugiriendo en este caso particular una mayor precisión del sistemático.\n",
        "\n",
        "**¿Cuál capta mejor la estacionalidad o la tendencia?**\n",
        "\n",
        "El Muestreo Sistemático es inherentemente más adecuado para captar la estacionalidad o la tendencia en series temporales (como datos mensuales de pasajeros) en comparación con el Muestreo Aleatorio Simple. Esto se debe a que el muestreo sistemático garantiza que los elementos se seleccionen a intervalos regulares a lo largo de la secuencia ordenada, lo que asegura que la muestra contenga una representación distribuida de diferentes puntos en el tiempo (meses, años) donde podrían manifestarse patrones estacionales o de tendencia. El MAS, al seleccionar elementos completamente al azar, podría, por pura casualidad, omitir ciertos periodos o concentrarse excesivamente en otros, perdiendo la representatividad de esos patrones cíclicos o evolutivos.\n",
        "\n",
        "**¿Cuándo podría ser sesgado el muestreo sistemático?**\n",
        "\n",
        "El muestreo sistemático podría ser seriamente sesgado si existe una periodicidad o un patrón cíclico en los datos de la población que coincide o es un múltiplo del intervalo de muestreo (k). Por ejemplo, si tu k fuera 12 (para datos mensuales) y hubiera un patrón anual muy marcado, podrías terminar seleccionando solo datos de enero de cada año (si tu punto de inicio cae en enero), o solo datos de junio, perdiendo la variación del resto del año y sesgando gravemente la estimación de la media anual o de la proporción. También podría ser sesgado si la lista no está verdaderamente aleatorizada al inicio (aunque en series temporales suele ser por orden cronológico).\n",
        "\n",
        "**¿Qué método recomendarías para estudios con series temporales?**\n",
        "\n",
        "Para estudios con series temporales donde se busca captar estacionalidad o tendencia, o simplemente asegurar una distribución equitativa de los datos a lo largo del tiempo, recomendaría el Muestreo Sistemático. Su naturaleza de selección a intervalos regulares es ventajosa para asegurar que la muestra contenga elementos de todo el período de estudio, reflejando así mejor los patrones temporales. Sin embargo, es crucial ser consciente de posibles patrones cíclicos en los datos que puedan coincidir con el intervalo de muestreo y, si se detectan, ajustar el diseño (ej., cambiando el punto de inicio aleatorio o usando un muestreo estratificado por períodos) para evitar el sesgo. Si no hay sospecha de dichos patrones, el sistemático es a menudo más práctico que el MAS para series largas."
      ],
      "metadata": {
        "id": "kxGiJ9BE5q82"
      }
    }
  ]
}