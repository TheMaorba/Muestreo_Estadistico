{
 "cells": [
  {
   "cell_type": "markdown",
   "id": "745b4ab1",
   "metadata": {},
   "source": [
    "Este archivo es la solucion de la actividad del Jueves 10 de Julio"
   ]
  },
  {
   "cell_type": "code",
   "execution_count": 5,
   "id": "dd37965f",
   "metadata": {},
   "outputs": [],
   "source": [
    "import pandas as pd\n",
    "import numpy as np\n",
    "import openpyxl"
   ]
  },
  {
   "cell_type": "code",
   "execution_count": 8,
   "id": "1de244a4",
   "metadata": {},
   "outputs": [
    {
     "name": "stderr",
     "output_type": "stream",
     "text": [
      "<>:2: SyntaxWarning: invalid escape sequence '\\A'\n",
      "<>:2: SyntaxWarning: invalid escape sequence '\\A'\n",
      "C:\\Users\\Mateo\\AppData\\Local\\Temp\\ipykernel_16616\\467896452.py:2: SyntaxWarning: invalid escape sequence '\\A'\n",
      "  df = pd.read_excel('Muestreo_sistematico\\Actividad_Retail_Clientes.xlsx')\n"
     ]
    }
   ],
   "source": [
    "# Load the Excel file\n",
    "df = pd.read_excel('Muestreo_sistematico\\Actividad_Retail_Clientes.xlsx')"
   ]
  },
  {
   "cell_type": "code",
   "execution_count": 9,
   "id": "fe0278ba",
   "metadata": {},
   "outputs": [
    {
     "data": {
      "application/vnd.microsoft.datawrangler.viewer.v0+json": {
       "columns": [
        {
         "name": "index",
         "rawType": "int64",
         "type": "integer"
        },
        {
         "name": "ID",
         "rawType": "int64",
         "type": "integer"
        },
        {
         "name": "HoraIngreso",
         "rawType": "int64",
         "type": "integer"
        },
        {
         "name": "Compra",
         "rawType": "int64",
         "type": "integer"
        },
        {
         "name": "MontoCompra",
         "rawType": "float64",
         "type": "float"
        }
       ],
       "ref": "27081941-f846-4b04-9b47-f542028ce6d3",
       "rows": [
        [
         "0",
         "1",
         "13",
         "1",
         "6.99"
        ],
        [
         "1",
         "2",
         "19",
         "0",
         "0.0"
        ],
        [
         "2",
         "3",
         "16",
         "0",
         "0.0"
        ],
        [
         "3",
         "4",
         "15",
         "1",
         "26.24"
        ],
        [
         "4",
         "5",
         "12",
         "0",
         "0.0"
        ]
       ],
       "shape": {
        "columns": 4,
        "rows": 5
       }
      },
      "text/html": [
       "<div>\n",
       "<style scoped>\n",
       "    .dataframe tbody tr th:only-of-type {\n",
       "        vertical-align: middle;\n",
       "    }\n",
       "\n",
       "    .dataframe tbody tr th {\n",
       "        vertical-align: top;\n",
       "    }\n",
       "\n",
       "    .dataframe thead th {\n",
       "        text-align: right;\n",
       "    }\n",
       "</style>\n",
       "<table border=\"1\" class=\"dataframe\">\n",
       "  <thead>\n",
       "    <tr style=\"text-align: right;\">\n",
       "      <th></th>\n",
       "      <th>ID</th>\n",
       "      <th>HoraIngreso</th>\n",
       "      <th>Compra</th>\n",
       "      <th>MontoCompra</th>\n",
       "    </tr>\n",
       "  </thead>\n",
       "  <tbody>\n",
       "    <tr>\n",
       "      <th>0</th>\n",
       "      <td>1</td>\n",
       "      <td>13</td>\n",
       "      <td>1</td>\n",
       "      <td>6.99</td>\n",
       "    </tr>\n",
       "    <tr>\n",
       "      <th>1</th>\n",
       "      <td>2</td>\n",
       "      <td>19</td>\n",
       "      <td>0</td>\n",
       "      <td>0.00</td>\n",
       "    </tr>\n",
       "    <tr>\n",
       "      <th>2</th>\n",
       "      <td>3</td>\n",
       "      <td>16</td>\n",
       "      <td>0</td>\n",
       "      <td>0.00</td>\n",
       "    </tr>\n",
       "    <tr>\n",
       "      <th>3</th>\n",
       "      <td>4</td>\n",
       "      <td>15</td>\n",
       "      <td>1</td>\n",
       "      <td>26.24</td>\n",
       "    </tr>\n",
       "    <tr>\n",
       "      <th>4</th>\n",
       "      <td>5</td>\n",
       "      <td>12</td>\n",
       "      <td>0</td>\n",
       "      <td>0.00</td>\n",
       "    </tr>\n",
       "  </tbody>\n",
       "</table>\n",
       "</div>"
      ],
      "text/plain": [
       "   ID  HoraIngreso  Compra  MontoCompra\n",
       "0   1           13       1         6.99\n",
       "1   2           19       0         0.00\n",
       "2   3           16       0         0.00\n",
       "3   4           15       1        26.24\n",
       "4   5           12       0         0.00"
      ]
     },
     "execution_count": 9,
     "metadata": {},
     "output_type": "execute_result"
    }
   ],
   "source": [
    "df.head() "
   ]
  }
 ],
 "metadata": {
  "kernelspec": {
   "display_name": "Python 3",
   "language": "python",
   "name": "python3"
  },
  "language_info": {
   "codemirror_mode": {
    "name": "ipython",
    "version": 3
   },
   "file_extension": ".py",
   "mimetype": "text/x-python",
   "name": "python",
   "nbconvert_exporter": "python",
   "pygments_lexer": "ipython3",
   "version": "3.13.3"
  }
 },
 "nbformat": 4,
 "nbformat_minor": 5
}
